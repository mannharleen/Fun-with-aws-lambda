{
 "cells": [
  {
   "cell_type": "code",
   "execution_count": 2,
   "metadata": {},
   "outputs": [],
   "source": [
    "import boto3\n",
    "import paramiko\n",
    "\n",
    "hosts = ['10.29.5.184']\n",
    "hosts_username = { \"10.29.5.184\" : \"ubuntu\" }\n",
    "hosts_source_key_locs = { \"10.29.5.184\" : \"harleen/ssh/harleen-key-pair.pem\" }\n",
    "hosts_target_key_locs = { \"10.29.5.184\" : \"/tmp/harleen-key-pair.pem\" }\n",
    "hosts_bucket_locs = { \"10.29.5.184\" : \"modharleen\" }\n",
    "hosts_commands = { \"10.29.5.184\" : [\"ls\" ] } #\"screen -md /home/ubuntu/apache-hive-1.0.0-bin/bin/hive --service metastore\", \n",
    "\n",
    "def ssh_ex_hosts_commands(event, context):\n",
    "    s3_client = boto3.client(\"s3\") \n",
    "    for host in hosts:\n",
    "        s3_client.download_file(hosts_bucket_locs[host],hosts_source_key_locs[host],hosts_target_key_locs[host])    \n",
    "        k = paramiko.RSAKey.from_private_key_file(hosts_target_key_locs[host])\n",
    "        c = paramiko.SSHClient()\n",
    "        c.set_missing_host_key_policy(paramiko.AutoAddPolicy())\n",
    "        print(\"Connecting to \" + host)\n",
    "        c.connect( hostname = host, username = hosts_username[host], pkey = k )\n",
    "        print(\"Connected to \" + host)\n",
    "        for command in hosts_commands[host]:\n",
    "            print (\"Executing {}\".format(command))\n",
    "            stdin , stdout, stderr = c.exec_command(command)\n",
    "            print (stdout.read())\n",
    "            print (stderr.read())\n"
   ]
  },
  {
   "cell_type": "code",
   "execution_count": 3,
   "metadata": {},
   "outputs": [
    {
     "name": "stdout",
     "output_type": "stream",
     "text": [
      "Connecting to 10.29.5.184\n",
      "Connected to 10.29.5.184\n",
      "Executing screen -md /home/ubuntu/apache-hive-1.0.0-bin/bin/hive --service metastore\n",
      "b''\n",
      "b''\n",
      "Executing ls\n",
      "b'apache-hive-1.0.0-bin\\napache-hive-1.0.0-bin.tar.gz\\nhadoop-2.9.0\\nhadoopdata\\nhadooptmp\\nmariadb-java-client-2.2.0.jar\\n'\n",
      "b''\n"
     ]
    }
   ],
   "source": [
    "ssh_ex_hosts_commands(1,2)"
   ]
  }
 ],
 "metadata": {
  "kernelspec": {
   "display_name": "Python 3",
   "language": "python",
   "name": "python3"
  },
  "language_info": {
   "codemirror_mode": {
    "name": "ipython",
    "version": 3
   },
   "file_extension": ".py",
   "mimetype": "text/x-python",
   "name": "python",
   "nbconvert_exporter": "python",
   "pygments_lexer": "ipython3",
   "version": "3.6.3"
  }
 },
 "nbformat": 4,
 "nbformat_minor": 2
}
